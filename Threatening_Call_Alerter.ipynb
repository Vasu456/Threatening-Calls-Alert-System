{
 "cells": [
  {
   "cell_type": "markdown",
   "metadata": {
    "id": "42XjyCEVz6Tb"
   },
   "source": [
    "**Installation of required libraries**"
   ]
  },
  {
   "cell_type": "code",
   "execution_count": 1,
   "metadata": {
    "id": "Sfrs_FAvy6J3"
   },
   "outputs": [
    {
     "name": "stdout",
     "output_type": "stream",
     "text": [
      "Defaulting to user installation because normal site-packages is not writeable\n",
      "Requirement already satisfied: pyaudio in c:\\users\\dell\\appdata\\roaming\\python\\python310\\site-packages (0.2.13)\n"
     ]
    },
    {
     "name": "stderr",
     "output_type": "stream",
     "text": [
      "\n",
      "[notice] A new release of pip is available: 23.1.2 -> 23.2\n",
      "[notice] To update, run: python.exe -m pip install --upgrade pip\n"
     ]
    }
   ],
   "source": [
    "!pip install pyaudio"
   ]
  },
  {
   "cell_type": "code",
   "execution_count": 2,
   "metadata": {
    "id": "ngyh8mrJ0JbE"
   },
   "outputs": [
    {
     "name": "stdout",
     "output_type": "stream",
     "text": [
      "Defaulting to user installation because normal site-packages is not writeable\n",
      "Requirement already satisfied: SpeechRecognition in c:\\users\\dell\\appdata\\roaming\\python\\python310\\site-packages (3.10.0)\n",
      "Requirement already satisfied: requests>=2.26.0 in c:\\users\\dell\\appdata\\roaming\\python\\python310\\site-packages (from SpeechRecognition) (2.28.2)\n",
      "Requirement already satisfied: charset-normalizer<4,>=2 in c:\\users\\dell\\appdata\\roaming\\python\\python310\\site-packages (from requests>=2.26.0->SpeechRecognition) (3.1.0)\n",
      "Requirement already satisfied: idna<4,>=2.5 in c:\\users\\dell\\appdata\\roaming\\python\\python310\\site-packages (from requests>=2.26.0->SpeechRecognition) (3.4)\n",
      "Requirement already satisfied: urllib3<1.27,>=1.21.1 in c:\\users\\dell\\appdata\\roaming\\python\\python310\\site-packages (from requests>=2.26.0->SpeechRecognition) (1.26.14)\n",
      "Requirement already satisfied: certifi>=2017.4.17 in c:\\users\\dell\\appdata\\roaming\\python\\python310\\site-packages (from requests>=2.26.0->SpeechRecognition) (2022.12.7)\n"
     ]
    },
    {
     "name": "stderr",
     "output_type": "stream",
     "text": [
      "\n",
      "[notice] A new release of pip is available: 23.1.2 -> 23.2\n",
      "[notice] To update, run: python.exe -m pip install --upgrade pip\n"
     ]
    }
   ],
   "source": [
    "!pip install SpeechRecognition"
   ]
  },
  {
   "cell_type": "code",
   "execution_count": 3,
   "metadata": {
    "id": "5U5i4J5l0LP_"
   },
   "outputs": [
    {
     "name": "stdout",
     "output_type": "stream",
     "text": [
      "Defaulting to user installation because normal site-packages is not writeable\n",
      "Requirement already satisfied: pywhatkit in c:\\users\\dell\\appdata\\roaming\\python\\python310\\site-packages (5.4)\n",
      "Requirement already satisfied: Pillow in c:\\users\\dell\\appdata\\roaming\\python\\python310\\site-packages (from pywhatkit) (10.0.0)\n",
      "Requirement already satisfied: pyautogui in c:\\users\\dell\\appdata\\roaming\\python\\python310\\site-packages (from pywhatkit) (0.9.54)\n",
      "Requirement already satisfied: requests in c:\\users\\dell\\appdata\\roaming\\python\\python310\\site-packages (from pywhatkit) (2.28.2)\n",
      "Requirement already satisfied: wikipedia in c:\\users\\dell\\appdata\\roaming\\python\\python310\\site-packages (from pywhatkit) (1.4.0)\n",
      "Requirement already satisfied: Flask in c:\\users\\dell\\appdata\\roaming\\python\\python310\\site-packages (from pywhatkit) (2.3.2)\n",
      "Requirement already satisfied: Werkzeug>=2.3.3 in c:\\users\\dell\\appdata\\roaming\\python\\python310\\site-packages (from Flask->pywhatkit) (2.3.6)\n",
      "Requirement already satisfied: Jinja2>=3.1.2 in c:\\users\\dell\\appdata\\roaming\\python\\python310\\site-packages (from Flask->pywhatkit) (3.1.2)\n",
      "Requirement already satisfied: itsdangerous>=2.1.2 in c:\\users\\dell\\appdata\\roaming\\python\\python310\\site-packages (from Flask->pywhatkit) (2.1.2)\n",
      "Requirement already satisfied: click>=8.1.3 in c:\\users\\dell\\appdata\\roaming\\python\\python310\\site-packages (from Flask->pywhatkit) (8.1.3)\n",
      "Requirement already satisfied: blinker>=1.6.2 in c:\\users\\dell\\appdata\\roaming\\python\\python310\\site-packages (from Flask->pywhatkit) (1.6.2)\n",
      "Requirement already satisfied: pymsgbox in c:\\users\\dell\\appdata\\roaming\\python\\python310\\site-packages (from pyautogui->pywhatkit) (1.0.9)\n",
      "Requirement already satisfied: pytweening>=1.0.4 in c:\\users\\dell\\appdata\\roaming\\python\\python310\\site-packages (from pyautogui->pywhatkit) (1.0.7)\n",
      "Requirement already satisfied: pyscreeze>=0.1.21 in c:\\users\\dell\\appdata\\roaming\\python\\python310\\site-packages (from pyautogui->pywhatkit) (0.1.29)\n",
      "Requirement already satisfied: pygetwindow>=0.0.5 in c:\\users\\dell\\appdata\\roaming\\python\\python310\\site-packages (from pyautogui->pywhatkit) (0.0.9)\n",
      "Requirement already satisfied: mouseinfo in c:\\users\\dell\\appdata\\roaming\\python\\python310\\site-packages (from pyautogui->pywhatkit) (0.1.3)\n",
      "Requirement already satisfied: charset-normalizer<4,>=2 in c:\\users\\dell\\appdata\\roaming\\python\\python310\\site-packages (from requests->pywhatkit) (3.1.0)\n",
      "Requirement already satisfied: idna<4,>=2.5 in c:\\users\\dell\\appdata\\roaming\\python\\python310\\site-packages (from requests->pywhatkit) (3.4)\n",
      "Requirement already satisfied: urllib3<1.27,>=1.21.1 in c:\\users\\dell\\appdata\\roaming\\python\\python310\\site-packages (from requests->pywhatkit) (1.26.14)\n",
      "Requirement already satisfied: certifi>=2017.4.17 in c:\\users\\dell\\appdata\\roaming\\python\\python310\\site-packages (from requests->pywhatkit) (2022.12.7)\n",
      "Requirement already satisfied: beautifulsoup4 in c:\\users\\dell\\appdata\\roaming\\python\\python310\\site-packages (from wikipedia->pywhatkit) (4.11.2)\n",
      "Requirement already satisfied: colorama in c:\\users\\dell\\appdata\\roaming\\python\\python310\\site-packages (from click>=8.1.3->Flask->pywhatkit) (0.4.6)\n",
      "Requirement already satisfied: MarkupSafe>=2.0 in c:\\users\\dell\\appdata\\roaming\\python\\python310\\site-packages (from Jinja2>=3.1.2->Flask->pywhatkit) (2.1.2)\n",
      "Requirement already satisfied: pyrect in c:\\users\\dell\\appdata\\roaming\\python\\python310\\site-packages (from pygetwindow>=0.0.5->pyautogui->pywhatkit) (0.2.0)\n",
      "Requirement already satisfied: pyscreenshot in c:\\users\\dell\\appdata\\roaming\\python\\python310\\site-packages (from pyscreeze>=0.1.21->pyautogui->pywhatkit) (3.1)\n",
      "Requirement already satisfied: soupsieve>1.2 in c:\\users\\dell\\appdata\\roaming\\python\\python310\\site-packages (from beautifulsoup4->wikipedia->pywhatkit) (2.4)\n",
      "Requirement already satisfied: pyperclip in c:\\users\\dell\\appdata\\roaming\\python\\python310\\site-packages (from mouseinfo->pyautogui->pywhatkit) (1.8.2)\n",
      "Requirement already satisfied: EasyProcess in c:\\users\\dell\\appdata\\roaming\\python\\python310\\site-packages (from pyscreenshot->pyscreeze>=0.1.21->pyautogui->pywhatkit) (1.1)\n",
      "Requirement already satisfied: entrypoint2 in c:\\users\\dell\\appdata\\roaming\\python\\python310\\site-packages (from pyscreenshot->pyscreeze>=0.1.21->pyautogui->pywhatkit) (1.1)\n",
      "Requirement already satisfied: mss in c:\\users\\dell\\appdata\\roaming\\python\\python310\\site-packages (from pyscreenshot->pyscreeze>=0.1.21->pyautogui->pywhatkit) (9.0.1)\n"
     ]
    },
    {
     "name": "stderr",
     "output_type": "stream",
     "text": [
      "\n",
      "[notice] A new release of pip is available: 23.1.2 -> 23.2\n",
      "[notice] To update, run: python.exe -m pip install --upgrade pip\n"
     ]
    }
   ],
   "source": [
    "!pip install pywhatkit"
   ]
  },
  {
   "cell_type": "code",
   "execution_count": 8,
   "metadata": {
    "colab": {
     "base_uri": "https://localhost:8080/"
    },
    "id": "XfIFJcCHKUqM",
    "outputId": "92d087a4-7b0f-48dc-f46c-cc1cf3fa6488"
   },
   "outputs": [
    {
     "name": "stdout",
     "output_type": "stream",
     "text": [
      "Defaulting to user installation because normal site-packages is not writeable\n",
      "Collecting nltk\n",
      "  Downloading nltk-3.8.1-py3-none-any.whl (1.5 MB)\n",
      "                                              0.0/1.5 MB ? eta -:--:--\n",
      "                                              0.0/1.5 MB ? eta -:--:--\n",
      "                                              0.0/1.5 MB ? eta -:--:--\n",
      "                                              0.0/1.5 MB ? eta -:--:--\n",
      "                                              0.0/1.5 MB ? eta -:--:--\n",
      "                                              0.0/1.5 MB ? eta -:--:--\n",
      "                                              0.0/1.5 MB 93.5 kB/s eta 0:00:16\n",
      "                                              0.0/1.5 MB 93.5 kB/s eta 0:00:16\n",
      "                                              0.0/1.5 MB 93.5 kB/s eta 0:00:16\n",
      "                                              0.0/1.5 MB 93.5 kB/s eta 0:00:16\n",
      "                                              0.0/1.5 MB 93.5 kB/s eta 0:00:16\n",
      "     -                                        0.0/1.5 MB 67.8 kB/s eta 0:00:22\n",
      "     -                                        0.0/1.5 MB 67.8 kB/s eta 0:00:22\n",
      "     -                                        0.0/1.5 MB 67.8 kB/s eta 0:00:22\n",
      "     -                                        0.0/1.5 MB 67.8 kB/s eta 0:00:22\n",
      "     -                                        0.0/1.5 MB 67.8 kB/s eta 0:00:22\n",
      "     -                                        0.1/1.5 MB 77.9 kB/s eta 0:00:19\n",
      "     -                                        0.1/1.5 MB 77.9 kB/s eta 0:00:19\n",
      "     -                                        0.1/1.5 MB 77.9 kB/s eta 0:00:19\n",
      "     -                                        0.1/1.5 MB 77.9 kB/s eta 0:00:19\n",
      "     -                                        0.1/1.5 MB 77.9 kB/s eta 0:00:19\n",
      "     -                                        0.1/1.5 MB 77.9 kB/s eta 0:00:19\n",
      "     -                                        0.1/1.5 MB 77.9 kB/s eta 0:00:19\n",
      "     -                                        0.1/1.5 MB 77.9 kB/s eta 0:00:19\n",
      "     -                                        0.1/1.5 MB 77.9 kB/s eta 0:00:19\n",
      "     -                                        0.1/1.5 MB 77.9 kB/s eta 0:00:19\n",
      "     -                                        0.1/1.5 MB 77.9 kB/s eta 0:00:19\n",
      "     -                                        0.1/1.5 MB 77.9 kB/s eta 0:00:19\n",
      "     -                                        0.1/1.5 MB 77.9 kB/s eta 0:00:19\n",
      "     -                                        0.1/1.5 MB 77.9 kB/s eta 0:00:19\n",
      "     -                                        0.1/1.5 MB 77.9 kB/s eta 0:00:19\n",
      "     -                                        0.1/1.5 MB 77.9 kB/s eta 0:00:19\n",
      "     -                                        0.1/1.5 MB 77.9 kB/s eta 0:00:19\n",
      "     -                                        0.1/1.5 MB 77.9 kB/s eta 0:00:19\n",
      "     -                                        0.1/1.5 MB 77.9 kB/s eta 0:00:19\n",
      "     -                                        0.1/1.5 MB 77.9 kB/s eta 0:00:19\n",
      "     -                                        0.1/1.5 MB 77.9 kB/s eta 0:00:19\n",
      "     -                                        0.1/1.5 MB 77.9 kB/s eta 0:00:19\n",
      "     -                                        0.1/1.5 MB 77.9 kB/s eta 0:00:19\n",
      "     -                                        0.1/1.5 MB 77.9 kB/s eta 0:00:19\n",
      "     -                                        0.1/1.5 MB 77.9 kB/s eta 0:00:19\n",
      "     -                                        0.1/1.5 MB 77.9 kB/s eta 0:00:19\n",
      "     -                                        0.1/1.5 MB 77.9 kB/s eta 0:00:19\n",
      "     -                                        0.1/1.5 MB 77.9 kB/s eta 0:00:19\n",
      "     -                                        0.1/1.5 MB 77.9 kB/s eta 0:00:19\n",
      "     -                                        0.1/1.5 MB 77.9 kB/s eta 0:00:19\n",
      "     -                                        0.1/1.5 MB 77.9 kB/s eta 0:00:19\n",
      "     -                                        0.1/1.5 MB 77.9 kB/s eta 0:00:19\n",
      "     -                                        0.1/1.5 MB 77.9 kB/s eta 0:00:19\n",
      "     -                                        0.1/1.5 MB 77.9 kB/s eta 0:00:19\n",
      "     -                                        0.1/1.5 MB 77.9 kB/s eta 0:00:19\n",
      "     -                                        0.1/1.5 MB 77.9 kB/s eta 0:00:19\n",
      "     -                                        0.1/1.5 MB 77.9 kB/s eta 0:00:19\n",
      "     -                                        0.1/1.5 MB 77.9 kB/s eta 0:00:19\n",
      "     -                                        0.1/1.5 MB 77.9 kB/s eta 0:00:19\n",
      "     -                                        0.1/1.5 MB 77.9 kB/s eta 0:00:19\n",
      "     -                                        0.1/1.5 MB 77.9 kB/s eta 0:00:19\n",
      "     -                                        0.1/1.5 MB 77.9 kB/s eta 0:00:19\n",
      "     -                                        0.1/1.5 MB 77.9 kB/s eta 0:00:19\n",
      "     -                                        0.1/1.5 MB 77.9 kB/s eta 0:00:19\n",
      "     -                                        0.1/1.5 MB 77.9 kB/s eta 0:00:19\n",
      "     -                                        0.1/1.5 MB 77.9 kB/s eta 0:00:19\n",
      "     -                                        0.1/1.5 MB 77.9 kB/s eta 0:00:19\n",
      "     -                                        0.1/1.5 MB 77.9 kB/s eta 0:00:19\n",
      "     -                                        0.1/1.5 MB 77.9 kB/s eta 0:00:19\n",
      "     -                                        0.1/1.5 MB 77.9 kB/s eta 0:00:19\n",
      "     -                                        0.1/1.5 MB 77.9 kB/s eta 0:00:19\n",
      "     -                                        0.1/1.5 MB 77.9 kB/s eta 0:00:19\n",
      "     -                                        0.1/1.5 MB 77.9 kB/s eta 0:00:19\n",
      "     -                                        0.1/1.5 MB 77.9 kB/s eta 0:00:19\n",
      "     -                                        0.1/1.5 MB 77.9 kB/s eta 0:00:19\n",
      "     -                                        0.1/1.5 MB 77.9 kB/s eta 0:00:19\n",
      "     -                                        0.1/1.5 MB 77.9 kB/s eta 0:00:19\n",
      "     -                                        0.1/1.5 MB 77.9 kB/s eta 0:00:19\n",
      "     -                                        0.1/1.5 MB 77.9 kB/s eta 0:00:19\n",
      "     -                                        0.1/1.5 MB 77.9 kB/s eta 0:00:19\n",
      "     -                                        0.1/1.5 MB 77.9 kB/s eta 0:00:19\n",
      "     -                                        0.1/1.5 MB 77.9 kB/s eta 0:00:19\n",
      "     -                                        0.1/1.5 MB 77.9 kB/s eta 0:00:19\n",
      "     -                                        0.1/1.5 MB 77.9 kB/s eta 0:00:19\n",
      "     -                                        0.1/1.5 MB 77.9 kB/s eta 0:00:19\n",
      "     -                                        0.1/1.5 MB 77.9 kB/s eta 0:00:19\n",
      "     -                                        0.1/1.5 MB 77.9 kB/s eta 0:00:19\n",
      "     -                                        0.1/1.5 MB 77.9 kB/s eta 0:00:19\n",
      "     -                                        0.1/1.5 MB 77.9 kB/s eta 0:00:19\n",
      "     -                                        0.1/1.5 MB 77.9 kB/s eta 0:00:19\n",
      "     -                                        0.1/1.5 MB 77.9 kB/s eta 0:00:19\n",
      "     -                                        0.1/1.5 MB 77.9 kB/s eta 0:00:19\n",
      "     -                                        0.1/1.5 MB 77.9 kB/s eta 0:00:19\n",
      "     -                                        0.1/1.5 MB 77.9 kB/s eta 0:00:19\n",
      "     -                                        0.1/1.5 MB 77.9 kB/s eta 0:00:19\n",
      "     -                                        0.1/1.5 MB 77.9 kB/s eta 0:00:19\n",
      "     -                                        0.1/1.5 MB 77.9 kB/s eta 0:00:19\n",
      "     -                                        0.1/1.5 MB 77.9 kB/s eta 0:00:19\n",
      "     -                                        0.1/1.5 MB 77.9 kB/s eta 0:00:19\n",
      "     -                                        0.1/1.5 MB 77.9 kB/s eta 0:00:19\n",
      "     -                                        0.1/1.5 MB 77.9 kB/s eta 0:00:19\n",
      "     -                                        0.1/1.5 MB 77.9 kB/s eta 0:00:19\n",
      "     -                                        0.1/1.5 MB 77.9 kB/s eta 0:00:19\n",
      "     -                                        0.1/1.5 MB 77.9 kB/s eta 0:00:19\n",
      "     -                                        0.1/1.5 MB 77.9 kB/s eta 0:00:19\n",
      "     -                                        0.1/1.5 MB 77.9 kB/s eta 0:00:19\n",
      "     -                                        0.1/1.5 MB 77.9 kB/s eta 0:00:19\n",
      "     -                                        0.1/1.5 MB 77.9 kB/s eta 0:00:19\n",
      "     -                                        0.1/1.5 MB 77.9 kB/s eta 0:00:19\n",
      "     -                                        0.1/1.5 MB 77.9 kB/s eta 0:00:19\n",
      "     -                                        0.1/1.5 MB 77.9 kB/s eta 0:00:19\n",
      "     -                                        0.1/1.5 MB 77.9 kB/s eta 0:00:19\n",
      "     -                                        0.1/1.5 MB 77.9 kB/s eta 0:00:19\n",
      "     -                                        0.1/1.5 MB 77.9 kB/s eta 0:00:19\n",
      "     -                                        0.1/1.5 MB 77.9 kB/s eta 0:00:19\n",
      "     -                                        0.1/1.5 MB 77.9 kB/s eta 0:00:19\n",
      "     -                                        0.1/1.5 MB 77.9 kB/s eta 0:00:19\n",
      "     -                                        0.1/1.5 MB 77.9 kB/s eta 0:00:19\n",
      "     -                                        0.1/1.5 MB 77.9 kB/s eta 0:00:19\n",
      "     -                                        0.1/1.5 MB 77.9 kB/s eta 0:00:19\n",
      "     -                                        0.1/1.5 MB 77.9 kB/s eta 0:00:19\n",
      "     -                                        0.1/1.5 MB 77.9 kB/s eta 0:00:19\n",
      "     -                                        0.1/1.5 MB 77.9 kB/s eta 0:00:19\n",
      "     -                                        0.1/1.5 MB 77.9 kB/s eta 0:00:19\n",
      "     -                                        0.1/1.5 MB 77.9 kB/s eta 0:00:19\n",
      "     -                                        0.1/1.5 MB 77.9 kB/s eta 0:00:19\n",
      "     -                                        0.1/1.5 MB 77.9 kB/s eta 0:00:19\n",
      "     -                                        0.1/1.5 MB 77.9 kB/s eta 0:00:19\n",
      "     -                                        0.1/1.5 MB 77.9 kB/s eta 0:00:19\n",
      "     -                                        0.1/1.5 MB 77.9 kB/s eta 0:00:19\n",
      "     -                                        0.1/1.5 MB 77.9 kB/s eta 0:00:19\n",
      "     -                                        0.1/1.5 MB 77.9 kB/s eta 0:00:19\n",
      "     -                                        0.1/1.5 MB 77.9 kB/s eta 0:00:19\n",
      "     -                                        0.1/1.5 MB 77.9 kB/s eta 0:00:19\n",
      "     -                                        0.1/1.5 MB 77.9 kB/s eta 0:00:19\n",
      "     -                                        0.1/1.5 MB 77.9 kB/s eta 0:00:19\n",
      "     -                                        0.1/1.5 MB 77.9 kB/s eta 0:00:19\n",
      "     -                                        0.1/1.5 MB 77.9 kB/s eta 0:00:19\n",
      "     -                                        0.1/1.5 MB 77.9 kB/s eta 0:00:19\n",
      "     -                                        0.1/1.5 MB 77.9 kB/s eta 0:00:19\n",
      "     -                                        0.1/1.5 MB 77.9 kB/s eta 0:00:19\n",
      "     -                                        0.1/1.5 MB 77.9 kB/s eta 0:00:19\n",
      "     -                                        0.1/1.5 MB 77.9 kB/s eta 0:00:19\n",
      "     -                                        0.1/1.5 MB 77.9 kB/s eta 0:00:19\n",
      "     -                                        0.1/1.5 MB 77.9 kB/s eta 0:00:19\n",
      "     -                                        0.1/1.5 MB 77.9 kB/s eta 0:00:19\n",
      "     -                                        0.1/1.5 MB 77.9 kB/s eta 0:00:19\n",
      "     -                                        0.1/1.5 MB 77.9 kB/s eta 0:00:19\n",
      "     -                                        0.1/1.5 MB 77.9 kB/s eta 0:00:19\n",
      "     -                                        0.1/1.5 MB 77.9 kB/s eta 0:00:19\n",
      "     -                                        0.1/1.5 MB 77.9 kB/s eta 0:00:19\n",
      "     -                                        0.1/1.5 MB 77.9 kB/s eta 0:00:19\n",
      "     -                                        0.1/1.5 MB 77.9 kB/s eta 0:00:19\n",
      "     -                                        0.1/1.5 MB 77.9 kB/s eta 0:00:19\n",
      "     -                                        0.1/1.5 MB 77.9 kB/s eta 0:00:19\n",
      "     -                                        0.1/1.5 MB 77.9 kB/s eta 0:00:19\n",
      "     -                                        0.1/1.5 MB 77.9 kB/s eta 0:00:19\n",
      "     -                                        0.1/1.5 MB 77.9 kB/s eta 0:00:19\n",
      "     -                                        0.1/1.5 MB 77.9 kB/s eta 0:00:19\n",
      "     -                                        0.1/1.5 MB 77.9 kB/s eta 0:00:19\n",
      "     -                                        0.1/1.5 MB 77.9 kB/s eta 0:00:19\n",
      "     -                                        0.1/1.5 MB 77.9 kB/s eta 0:00:19\n",
      "     -                                        0.1/1.5 MB 77.9 kB/s eta 0:00:19\n",
      "     -                                        0.1/1.5 MB 77.9 kB/s eta 0:00:19\n",
      "     -                                        0.1/1.5 MB 77.9 kB/s eta 0:00:19\n",
      "     -                                        0.1/1.5 MB 77.9 kB/s eta 0:00:19\n",
      "     -                                        0.1/1.5 MB 77.9 kB/s eta 0:00:19\n",
      "     -                                        0.1/1.5 MB 77.9 kB/s eta 0:00:19\n",
      "     -                                        0.1/1.5 MB 77.9 kB/s eta 0:00:19\n",
      "     -                                        0.1/1.5 MB 77.9 kB/s eta 0:00:19\n",
      "     -                                        0.1/1.5 MB 77.9 kB/s eta 0:00:19\n",
      "     -                                        0.1/1.5 MB 77.9 kB/s eta 0:00:19\n",
      "     -                                        0.1/1.5 MB 77.9 kB/s eta 0:00:19\n",
      "     -                                        0.1/1.5 MB 77.9 kB/s eta 0:00:19\n",
      "     -                                        0.1/1.5 MB 77.9 kB/s eta 0:00:19\n",
      "     -                                        0.1/1.5 MB 77.9 kB/s eta 0:00:19\n",
      "     -                                        0.1/1.5 MB 77.9 kB/s eta 0:00:19\n",
      "     -                                        0.1/1.5 MB 77.9 kB/s eta 0:00:19\n",
      "     -                                        0.1/1.5 MB 77.9 kB/s eta 0:00:19\n",
      "     -                                        0.1/1.5 MB 77.9 kB/s eta 0:00:19\n",
      "     -                                        0.1/1.5 MB 77.9 kB/s eta 0:00:19\n",
      "     -                                        0.1/1.5 MB 77.9 kB/s eta 0:00:19\n",
      "     -                                        0.1/1.5 MB 77.9 kB/s eta 0:00:19\n",
      "     -                                        0.1/1.5 MB 77.9 kB/s eta 0:00:19\n",
      "     -                                        0.1/1.5 MB 77.9 kB/s eta 0:00:19\n",
      "     -                                        0.1/1.5 MB 77.9 kB/s eta 0:00:19\n",
      "     -                                        0.1/1.5 MB 77.9 kB/s eta 0:00:19\n",
      "     -                                        0.1/1.5 MB 77.9 kB/s eta 0:00:19\n",
      "     -                                        0.1/1.5 MB 77.9 kB/s eta 0:00:19\n",
      "     -                                        0.1/1.5 MB 77.9 kB/s eta 0:00:19\n",
      "     -                                        0.1/1.5 MB 77.9 kB/s eta 0:00:19\n",
      "     -                                        0.1/1.5 MB 77.9 kB/s eta 0:00:19\n",
      "     -                                        0.1/1.5 MB 77.9 kB/s eta 0:00:19\n",
      "     -                                        0.1/1.5 MB 77.9 kB/s eta 0:00:19\n",
      "     -                                        0.1/1.5 MB 77.9 kB/s eta 0:00:19\n",
      "     -                                        0.1/1.5 MB 77.9 kB/s eta 0:00:19\n",
      "     -                                        0.1/1.5 MB 77.9 kB/s eta 0:00:19\n",
      "     -                                        0.1/1.5 MB 77.9 kB/s eta 0:00:19\n",
      "     -                                        0.1/1.5 MB 77.9 kB/s eta 0:00:19\n",
      "     -                                        0.1/1.5 MB 77.9 kB/s eta 0:00:19\n",
      "     -                                        0.1/1.5 MB 77.9 kB/s eta 0:00:19\n",
      "     -                                        0.1/1.5 MB 77.9 kB/s eta 0:00:19\n",
      "     -                                        0.1/1.5 MB 77.9 kB/s eta 0:00:19\n",
      "     -                                        0.1/1.5 MB 77.9 kB/s eta 0:00:19\n",
      "     -                                        0.1/1.5 MB 77.9 kB/s eta 0:00:19\n",
      "     -                                        0.1/1.5 MB 77.9 kB/s eta 0:00:19\n",
      "     -                                        0.1/1.5 MB 77.9 kB/s eta 0:00:19\n",
      "     -                                        0.1/1.5 MB 77.9 kB/s eta 0:00:19\n",
      "     -                                        0.1/1.5 MB 77.9 kB/s eta 0:00:19\n",
      "     -                                        0.1/1.5 MB 77.9 kB/s eta 0:00:19\n",
      "     -                                        0.1/1.5 MB 77.9 kB/s eta 0:00:19\n",
      "     -                                        0.1/1.5 MB 77.9 kB/s eta 0:00:19\n",
      "     -                                        0.1/1.5 MB 77.9 kB/s eta 0:00:19\n",
      "     -                                        0.1/1.5 MB 77.9 kB/s eta 0:00:19\n",
      "     -                                        0.1/1.5 MB 77.9 kB/s eta 0:00:19\n",
      "     -                                        0.1/1.5 MB 77.9 kB/s eta 0:00:19\n",
      "     -                                        0.1/1.5 MB 77.9 kB/s eta 0:00:19\n",
      "     -                                        0.1/1.5 MB 77.9 kB/s eta 0:00:19\n",
      "     -                                        0.1/1.5 MB 77.9 kB/s eta 0:00:19\n",
      "     -                                        0.1/1.5 MB 77.9 kB/s eta 0:00:19\n",
      "     -                                        0.1/1.5 MB 77.9 kB/s eta 0:00:19\n",
      "     -                                        0.1/1.5 MB 77.9 kB/s eta 0:00:19\n",
      "     -                                        0.1/1.5 MB 77.9 kB/s eta 0:00:19\n",
      "     -                                        0.1/1.5 MB 77.9 kB/s eta 0:00:19\n",
      "     -                                        0.1/1.5 MB 77.9 kB/s eta 0:00:19\n",
      "     -                                        0.1/1.5 MB 77.9 kB/s eta 0:00:19\n",
      "     -                                        0.1/1.5 MB 77.9 kB/s eta 0:00:19\n",
      "     -                                        0.1/1.5 MB 77.9 kB/s eta 0:00:19\n",
      "     -                                        0.1/1.5 MB 77.9 kB/s eta 0:00:19\n",
      "     -                                        0.1/1.5 MB 77.9 kB/s eta 0:00:19\n",
      "     -                                        0.1/1.5 MB 77.9 kB/s eta 0:00:19\n",
      "     -                                        0.1/1.5 MB 77.9 kB/s eta 0:00:19\n",
      "     -                                        0.1/1.5 MB 77.9 kB/s eta 0:00:19\n",
      "     -                                        0.1/1.5 MB 77.9 kB/s eta 0:00:19\n",
      "     -                                        0.1/1.5 MB 77.9 kB/s eta 0:00:19\n",
      "     -                                        0.1/1.5 MB 77.9 kB/s eta 0:00:19\n",
      "     -                                        0.1/1.5 MB 77.9 kB/s eta 0:00:19\n",
      "     -                                        0.1/1.5 MB 77.9 kB/s eta 0:00:19\n",
      "     -                                        0.1/1.5 MB 77.9 kB/s eta 0:00:19\n",
      "     -                                        0.1/1.5 MB 77.9 kB/s eta 0:00:19\n",
      "     -                                        0.1/1.5 MB 77.9 kB/s eta 0:00:19\n",
      "     -                                        0.1/1.5 MB 77.9 kB/s eta 0:00:19\n",
      "     -                                        0.1/1.5 MB 77.9 kB/s eta 0:00:19\n",
      "     -                                        0.1/1.5 MB 77.9 kB/s eta 0:00:19\n",
      "     -                                        0.1/1.5 MB 77.9 kB/s eta 0:00:19\n",
      "     -                                        0.1/1.5 MB 77.9 kB/s eta 0:00:19\n",
      "     -                                        0.1/1.5 MB 77.9 kB/s eta 0:00:19\n",
      "     -                                        0.1/1.5 MB 77.9 kB/s eta 0:00:19\n",
      "     -                                        0.1/1.5 MB 77.9 kB/s eta 0:00:19\n",
      "     -                                        0.1/1.5 MB 77.9 kB/s eta 0:00:19\n",
      "     -                                        0.1/1.5 MB 77.9 kB/s eta 0:00:19\n",
      "     -                                        0.1/1.5 MB 77.9 kB/s eta 0:00:19\n",
      "     -                                        0.1/1.5 MB 77.9 kB/s eta 0:00:19\n",
      "     -                                        0.1/1.5 MB 77.9 kB/s eta 0:00:19\n",
      "     -                                        0.1/1.5 MB 77.9 kB/s eta 0:00:19\n",
      "     -                                        0.1/1.5 MB 77.9 kB/s eta 0:00:19\n",
      "     -                                        0.1/1.5 MB 77.9 kB/s eta 0:00:19\n",
      "     -                                        0.1/1.5 MB 77.9 kB/s eta 0:00:19\n",
      "     -                                        0.1/1.5 MB 77.9 kB/s eta 0:00:19\n",
      "     -                                        0.1/1.5 MB 77.9 kB/s eta 0:00:19\n",
      "     -                                        0.1/1.5 MB 77.9 kB/s eta 0:00:19\n",
      "     -                                        0.1/1.5 MB 77.9 kB/s eta 0:00:19\n",
      "     -                                        0.1/1.5 MB 77.9 kB/s eta 0:00:19\n",
      "     -                                        0.1/1.5 MB 77.9 kB/s eta 0:00:19\n",
      "     -                                        0.1/1.5 MB 77.9 kB/s eta 0:00:19\n",
      "     -                                        0.1/1.5 MB 77.9 kB/s eta 0:00:19\n",
      "     -                                        0.1/1.5 MB 77.9 kB/s eta 0:00:19\n",
      "     -                                        0.1/1.5 MB 77.9 kB/s eta 0:00:19\n",
      "     -                                        0.1/1.5 MB 77.9 kB/s eta 0:00:19\n",
      "     -                                        0.1/1.5 MB 77.9 kB/s eta 0:00:19\n",
      "     -                                        0.1/1.5 MB 77.9 kB/s eta 0:00:19\n",
      "     -                                        0.1/1.5 MB 77.9 kB/s eta 0:00:19\n",
      "     -                                        0.1/1.5 MB 77.9 kB/s eta 0:00:19\n",
      "     -                                        0.1/1.5 MB 77.9 kB/s eta 0:00:19\n",
      "     -                                        0.1/1.5 MB 77.9 kB/s eta 0:00:19\n",
      "     -                                        0.1/1.5 MB 77.9 kB/s eta 0:00:19\n",
      "     -                                        0.1/1.5 MB 77.9 kB/s eta 0:00:19\n",
      "     -                                        0.1/1.5 MB 77.9 kB/s eta 0:00:19\n",
      "     -                                        0.1/1.5 MB 77.9 kB/s eta 0:00:19\n",
      "     -                                        0.1/1.5 MB 77.9 kB/s eta 0:00:19\n",
      "     -                                        0.1/1.5 MB 77.9 kB/s eta 0:00:19\n",
      "     -                                        0.1/1.5 MB 77.9 kB/s eta 0:00:19\n",
      "     -                                        0.1/1.5 MB 77.9 kB/s eta 0:00:19\n",
      "     -                                        0.1/1.5 MB 77.9 kB/s eta 0:00:19\n",
      "     -                                        0.1/1.5 MB 77.9 kB/s eta 0:00:19\n",
      "     -                                        0.1/1.5 MB 77.9 kB/s eta 0:00:19\n",
      "     -                                        0.1/1.5 MB 77.9 kB/s eta 0:00:19\n",
      "     -                                        0.1/1.5 MB 77.9 kB/s eta 0:00:19\n",
      "     -                                        0.1/1.5 MB 77.9 kB/s eta 0:00:19\n",
      "     -                                        0.1/1.5 MB 77.9 kB/s eta 0:00:19\n",
      "     -                                        0.1/1.5 MB 77.9 kB/s eta 0:00:19\n",
      "     -                                        0.1/1.5 MB 77.9 kB/s eta 0:00:19\n",
      "     -                                        0.1/1.5 MB 77.9 kB/s eta 0:00:19\n",
      "     -                                        0.1/1.5 MB 77.9 kB/s eta 0:00:19\n",
      "     -                                        0.1/1.5 MB 77.9 kB/s eta 0:00:19\n",
      "     -                                        0.1/1.5 MB 77.9 kB/s eta 0:00:19\n",
      "     -                                        0.1/1.5 MB 77.9 kB/s eta 0:00:19\n",
      "     -                                        0.1/1.5 MB 77.9 kB/s eta 0:00:19\n",
      "     -                                        0.1/1.5 MB 77.9 kB/s eta 0:00:19\n",
      "     -                                        0.1/1.5 MB 77.9 kB/s eta 0:00:19\n",
      "     -                                        0.1/1.5 MB 77.9 kB/s eta 0:00:19\n",
      "     -                                        0.1/1.5 MB 77.9 kB/s eta 0:00:19\n",
      "     -                                        0.1/1.5 MB 77.9 kB/s eta 0:00:19\n",
      "     -                                        0.1/1.5 MB 77.9 kB/s eta 0:00:19\n",
      "     -                                        0.1/1.5 MB 77.9 kB/s eta 0:00:19\n",
      "     -                                        0.1/1.5 MB 77.9 kB/s eta 0:00:19\n",
      "     -                                        0.1/1.5 MB 77.9 kB/s eta 0:00:19\n",
      "     -                                        0.1/1.5 MB 77.9 kB/s eta 0:00:19\n",
      "     -                                        0.1/1.5 MB 77.9 kB/s eta 0:00:19\n",
      "     -                                        0.1/1.5 MB 77.9 kB/s eta 0:00:19\n",
      "     -                                        0.1/1.5 MB 77.9 kB/s eta 0:00:19\n",
      "     -                                        0.1/1.5 MB 77.9 kB/s eta 0:00:19\n",
      "     -                                        0.1/1.5 MB 77.9 kB/s eta 0:00:19\n",
      "     -                                        0.1/1.5 MB 77.9 kB/s eta 0:00:19\n",
      "     -                                        0.1/1.5 MB 77.9 kB/s eta 0:00:19\n",
      "     -                                        0.1/1.5 MB 77.9 kB/s eta 0:00:19\n",
      "     -                                        0.1/1.5 MB 77.9 kB/s eta 0:00:19\n",
      "     -                                        0.1/1.5 MB 77.9 kB/s eta 0:00:19\n",
      "     -                                        0.1/1.5 MB 77.9 kB/s eta 0:00:19\n",
      "     -                                        0.1/1.5 MB 77.9 kB/s eta 0:00:19\n",
      "     -                                        0.1/1.5 MB 77.9 kB/s eta 0:00:19\n",
      "     -                                        0.1/1.5 MB 77.9 kB/s eta 0:00:19\n",
      "     -                                        0.1/1.5 MB 77.9 kB/s eta 0:00:19\n",
      "     -                                        0.1/1.5 MB 77.9 kB/s eta 0:00:19\n",
      "     -                                        0.1/1.5 MB 77.9 kB/s eta 0:00:19\n",
      "     -                                        0.1/1.5 MB 77.9 kB/s eta 0:00:19\n",
      "     -                                        0.1/1.5 MB 77.9 kB/s eta 0:00:19\n",
      "     -                                        0.1/1.5 MB 77.9 kB/s eta 0:00:19\n",
      "     -                                        0.1/1.5 MB 77.9 kB/s eta 0:00:19\n",
      "     -                                        0.1/1.5 MB 77.9 kB/s eta 0:00:19\n",
      "     -                                        0.1/1.5 MB 77.9 kB/s eta 0:00:19\n",
      "     -                                        0.1/1.5 MB 77.9 kB/s eta 0:00:19\n",
      "     -                                        0.1/1.5 MB 77.9 kB/s eta 0:00:19\n",
      "     -                                        0.1/1.5 MB 77.9 kB/s eta 0:00:19\n",
      "     -                                        0.1/1.5 MB 77.9 kB/s eta 0:00:19\n",
      "     -                                        0.1/1.5 MB 77.9 kB/s eta 0:00:19\n",
      "     -                                        0.1/1.5 MB 77.9 kB/s eta 0:00:19\n",
      "     -                                        0.1/1.5 MB 77.9 kB/s eta 0:00:19\n",
      "     -                                        0.1/1.5 MB 77.9 kB/s eta 0:00:19\n",
      "     -                                        0.1/1.5 MB 77.9 kB/s eta 0:00:19\n",
      "     -                                        0.1/1.5 MB 77.9 kB/s eta 0:00:19\n",
      "     -                                        0.1/1.5 MB 77.9 kB/s eta 0:00:19\n",
      "     -                                        0.1/1.5 MB 77.9 kB/s eta 0:00:19\n"
     ]
    },
    {
     "name": "stderr",
     "output_type": "stream",
     "text": [
      "ERROR: Exception:\n",
      "Traceback (most recent call last):\n",
      "  File \"C:\\Users\\DELL\\AppData\\Roaming\\Python\\Python310\\site-packages\\pip\\_vendor\\urllib3\\response.py\", line 438, in _error_catcher\n",
      "    yield\n",
      "  File \"C:\\Users\\DELL\\AppData\\Roaming\\Python\\Python310\\site-packages\\pip\\_vendor\\urllib3\\response.py\", line 561, in read\n",
      "    data = self._fp_read(amt) if not fp_closed else b\"\"\n",
      "  File \"C:\\Users\\DELL\\AppData\\Roaming\\Python\\Python310\\site-packages\\pip\\_vendor\\urllib3\\response.py\", line 527, in _fp_read\n",
      "    return self._fp.read(amt) if amt is not None else self._fp.read()\n",
      "  File \"C:\\Users\\DELL\\AppData\\Roaming\\Python\\Python310\\site-packages\\pip\\_vendor\\cachecontrol\\filewrapper.py\", line 90, in read\n",
      "    data = self.__fp.read(amt)\n",
      "  File \"C:\\Program Files\\Python310\\lib\\http\\client.py\", line 465, in read\n",
      "    s = self.fp.read(amt)\n",
      "  File \"C:\\Program Files\\Python310\\lib\\socket.py\", line 705, in readinto\n",
      "    return self._sock.recv_into(b)\n",
      "  File \"C:\\Program Files\\Python310\\lib\\ssl.py\", line 1273, in recv_into\n",
      "    return self.read(nbytes, buffer)\n",
      "  File \"C:\\Program Files\\Python310\\lib\\ssl.py\", line 1129, in read\n",
      "    return self._sslobj.read(len, buffer)\n",
      "TimeoutError: The read operation timed out\n",
      "\n",
      "During handling of the above exception, another exception occurred:\n",
      "\n",
      "Traceback (most recent call last):\n",
      "  File \"C:\\Users\\DELL\\AppData\\Roaming\\Python\\Python310\\site-packages\\pip\\_internal\\cli\\base_command.py\", line 169, in exc_logging_wrapper\n",
      "    status = run_func(*args)\n",
      "  File \"C:\\Users\\DELL\\AppData\\Roaming\\Python\\Python310\\site-packages\\pip\\_internal\\cli\\req_command.py\", line 248, in wrapper\n",
      "    return func(self, options, args)\n",
      "  File \"C:\\Users\\DELL\\AppData\\Roaming\\Python\\Python310\\site-packages\\pip\\_internal\\commands\\install.py\", line 377, in run\n",
      "    requirement_set = resolver.resolve(\n",
      "  File \"C:\\Users\\DELL\\AppData\\Roaming\\Python\\Python310\\site-packages\\pip\\_internal\\resolution\\resolvelib\\resolver.py\", line 92, in resolve\n",
      "    result = self._result = resolver.resolve(\n",
      "  File \"C:\\Users\\DELL\\AppData\\Roaming\\Python\\Python310\\site-packages\\pip\\_vendor\\resolvelib\\resolvers.py\", line 546, in resolve\n",
      "    state = resolution.resolve(requirements, max_rounds=max_rounds)\n",
      "  File \"C:\\Users\\DELL\\AppData\\Roaming\\Python\\Python310\\site-packages\\pip\\_vendor\\resolvelib\\resolvers.py\", line 397, in resolve\n",
      "    self._add_to_criteria(self.state.criteria, r, parent=None)\n",
      "  File \"C:\\Users\\DELL\\AppData\\Roaming\\Python\\Python310\\site-packages\\pip\\_vendor\\resolvelib\\resolvers.py\", line 173, in _add_to_criteria\n",
      "    if not criterion.candidates:\n",
      "  File \"C:\\Users\\DELL\\AppData\\Roaming\\Python\\Python310\\site-packages\\pip\\_vendor\\resolvelib\\structs.py\", line 156, in __bool__\n",
      "    return bool(self._sequence)\n",
      "  File \"C:\\Users\\DELL\\AppData\\Roaming\\Python\\Python310\\site-packages\\pip\\_internal\\resolution\\resolvelib\\found_candidates.py\", line 155, in __bool__\n",
      "    return any(self)\n",
      "  File \"C:\\Users\\DELL\\AppData\\Roaming\\Python\\Python310\\site-packages\\pip\\_internal\\resolution\\resolvelib\\found_candidates.py\", line 143, in <genexpr>\n",
      "    return (c for c in iterator if id(c) not in self._incompatible_ids)\n",
      "  File \"C:\\Users\\DELL\\AppData\\Roaming\\Python\\Python310\\site-packages\\pip\\_internal\\resolution\\resolvelib\\found_candidates.py\", line 47, in _iter_built\n",
      "    candidate = func()\n",
      "  File \"C:\\Users\\DELL\\AppData\\Roaming\\Python\\Python310\\site-packages\\pip\\_internal\\resolution\\resolvelib\\factory.py\", line 206, in _make_candidate_from_link\n",
      "    self._link_candidate_cache[link] = LinkCandidate(\n",
      "  File \"C:\\Users\\DELL\\AppData\\Roaming\\Python\\Python310\\site-packages\\pip\\_internal\\resolution\\resolvelib\\candidates.py\", line 293, in __init__\n",
      "    super().__init__(\n",
      "  File \"C:\\Users\\DELL\\AppData\\Roaming\\Python\\Python310\\site-packages\\pip\\_internal\\resolution\\resolvelib\\candidates.py\", line 156, in __init__\n",
      "    self.dist = self._prepare()\n",
      "  File \"C:\\Users\\DELL\\AppData\\Roaming\\Python\\Python310\\site-packages\\pip\\_internal\\resolution\\resolvelib\\candidates.py\", line 225, in _prepare\n",
      "    dist = self._prepare_distribution()\n",
      "  File \"C:\\Users\\DELL\\AppData\\Roaming\\Python\\Python310\\site-packages\\pip\\_internal\\resolution\\resolvelib\\candidates.py\", line 304, in _prepare_distribution\n",
      "    return preparer.prepare_linked_requirement(self._ireq, parallel_builds=True)\n",
      "  File \"C:\\Users\\DELL\\AppData\\Roaming\\Python\\Python310\\site-packages\\pip\\_internal\\operations\\prepare.py\", line 516, in prepare_linked_requirement\n",
      "    return self._prepare_linked_requirement(req, parallel_builds)\n",
      "  File \"C:\\Users\\DELL\\AppData\\Roaming\\Python\\Python310\\site-packages\\pip\\_internal\\operations\\prepare.py\", line 587, in _prepare_linked_requirement\n",
      "    local_file = unpack_url(\n",
      "  File \"C:\\Users\\DELL\\AppData\\Roaming\\Python\\Python310\\site-packages\\pip\\_internal\\operations\\prepare.py\", line 166, in unpack_url\n",
      "    file = get_http_url(\n",
      "  File \"C:\\Users\\DELL\\AppData\\Roaming\\Python\\Python310\\site-packages\\pip\\_internal\\operations\\prepare.py\", line 107, in get_http_url\n",
      "    from_path, content_type = download(link, temp_dir.path)\n",
      "  File \"C:\\Users\\DELL\\AppData\\Roaming\\Python\\Python310\\site-packages\\pip\\_internal\\network\\download.py\", line 147, in __call__\n",
      "    for chunk in chunks:\n",
      "  File \"C:\\Users\\DELL\\AppData\\Roaming\\Python\\Python310\\site-packages\\pip\\_internal\\cli\\progress_bars.py\", line 53, in _rich_progress_bar\n",
      "    for chunk in iterable:\n",
      "  File \"C:\\Users\\DELL\\AppData\\Roaming\\Python\\Python310\\site-packages\\pip\\_internal\\network\\utils.py\", line 63, in response_chunks\n",
      "    for chunk in response.raw.stream(\n",
      "  File \"C:\\Users\\DELL\\AppData\\Roaming\\Python\\Python310\\site-packages\\pip\\_vendor\\urllib3\\response.py\", line 622, in stream\n",
      "    data = self.read(amt=amt, decode_content=decode_content)\n",
      "  File \"C:\\Users\\DELL\\AppData\\Roaming\\Python\\Python310\\site-packages\\pip\\_vendor\\urllib3\\response.py\", line 560, in read\n",
      "    with self._error_catcher():\n",
      "  File \"C:\\Program Files\\Python310\\lib\\contextlib.py\", line 153, in __exit__\n",
      "    self.gen.throw(typ, value, traceback)\n",
      "  File \"C:\\Users\\DELL\\AppData\\Roaming\\Python\\Python310\\site-packages\\pip\\_vendor\\urllib3\\response.py\", line 443, in _error_catcher\n",
      "    raise ReadTimeoutError(self._pool, None, \"Read timed out.\")\n",
      "pip._vendor.urllib3.exceptions.ReadTimeoutError: HTTPSConnectionPool(host='files.pythonhosted.org', port=443): Read timed out.\n",
      "\n",
      "[notice] A new release of pip is available: 23.1.2 -> 23.2\n",
      "[notice] To update, run: python.exe -m pip install --upgrade pip\n"
     ]
    }
   ],
   "source": [
    "!pip install nltk"
   ]
  },
  {
   "cell_type": "markdown",
   "metadata": {
    "id": "P81qutGy11G2"
   },
   "source": [
    "**Recording the audio and converting it into text**"
   ]
  },
  {
   "cell_type": "code",
   "execution_count": 4,
   "metadata": {
    "id": "Z6zYeRHV0ZsS"
   },
   "outputs": [],
   "source": [
    "#Importing the libraries for conversion of audio to text\n",
    "import speech_recognition as sr\n",
    "import IPython"
   ]
  },
  {
   "cell_type": "code",
   "execution_count": 5,
   "metadata": {
    "id": "4LjydS6D0lCI"
   },
   "outputs": [
    {
     "name": "stdout",
     "output_type": "stream",
     "text": [
      "Speak something to record the audio...\n",
      "You said: I will kill you\n"
     ]
    }
   ],
   "source": [
    "# Initialize recognizer\n",
    "r = sr.Recognizer()\n",
    "\n",
    "# Capture audio from microphone\n",
    "with sr.Microphone() as source:\n",
    "    print(\"Speak something to record the audio...\")\n",
    "    audio = r.listen(source)\n",
    "\n",
    "# Convert audio to text\n",
    "try:\n",
    "    text = r.recognize_google(audio)\n",
    "    print(\"You said: \" + text)\n",
    "except sr.UnknownValueError:\n",
    "    print(\"Sorry, I could not understand what you said\")\n",
    "except sr.RequestError:\n",
    "    print(\"Sorry, my speech service is currently down\")"
   ]
  },
  {
   "cell_type": "code",
   "execution_count": 6,
   "metadata": {
    "id": "otiFBcB41Cg1"
   },
   "outputs": [],
   "source": [
    "#assigning the converted text to a variable\n",
    "l=text"
   ]
  },
  {
   "cell_type": "markdown",
   "metadata": {
    "id": "8-jC8BdCBSA3"
   },
   "source": [
    "**Cleaning the dataset**"
   ]
  },
  {
   "cell_type": "code",
   "execution_count": 7,
   "metadata": {
    "id": "WuasM6fZAQK2"
   },
   "outputs": [],
   "source": [
    "#importing required libraries for cleaning the dataset(removing nan values,stopwords)\n",
    "import pandas as pd\n",
    "import re\n",
    "import nltk\n",
    "from tqdm import tqdm\n",
    "tqdm.pandas()"
   ]
  },
  {
   "cell_type": "code",
   "execution_count": 8,
   "metadata": {
    "colab": {
     "base_uri": "https://localhost:8080/"
    },
    "id": "Gs4cVfWgAziE",
    "outputId": "f3a205f9-45fb-49df-8b27-add53392c972"
   },
   "outputs": [
    {
     "name": "stderr",
     "output_type": "stream",
     "text": [
      "[nltk_data] Downloading package stopwords to\n",
      "[nltk_data]     C:\\Users\\DELL\\AppData\\Roaming\\nltk_data...\n",
      "[nltk_data]   Package stopwords is already up-to-date!\n"
     ]
    },
    {
     "data": {
      "text/plain": [
       "True"
      ]
     },
     "execution_count": 8,
     "metadata": {},
     "output_type": "execute_result"
    }
   ],
   "source": [
    "#downloading the stopwords package\n",
    "nltk.download('stopwords')"
   ]
  },
  {
   "cell_type": "code",
   "execution_count": 9,
   "metadata": {
    "id": "k_i6dDpfASN_"
   },
   "outputs": [],
   "source": [
    "#loading the dataset\n",
    "data = pd.read_csv(\"Final_dataset.csv\",encoding=\"ISO-8859-1\")"
   ]
  },
  {
   "cell_type": "code",
   "execution_count": 10,
   "metadata": {
    "colab": {
     "base_uri": "https://localhost:8080/"
    },
    "id": "ZP-HEAjvAkoF",
    "outputId": "8f19648f-5e1a-4628-a327-85b4632acd31"
   },
   "outputs": [
    {
     "name": "stderr",
     "output_type": "stream",
     "text": [
      "  0%|          | 0/1219 [00:00<?, ?it/s]"
     ]
    },
    {
     "name": "stderr",
     "output_type": "stream",
     "text": [
      "100%|██████████| 1219/1219 [00:00<00:00, 1885.92it/s]\n",
      "C:\\Users\\DELL\\AppData\\Local\\Temp\\ipykernel_23608\\1667123100.py:22: SettingWithCopyWarning: \n",
      "A value is trying to be set on a copy of a slice from a DataFrame.\n",
      "Try using .loc[row_indexer,col_indexer] = value instead\n",
      "\n",
      "See the caveats in the documentation: https://pandas.pydata.org/pandas-docs/stable/user_guide/indexing.html#returning-a-view-versus-a-copy\n",
      "  data[col] = data[col].progress_apply(clean_sentence)\n"
     ]
    }
   ],
   "source": [
    "STOP_WORDS = nltk.corpus.stopwords.words() + [\"br\"]\n",
    "\n",
    "#creating a function for cleanig the sentences in the dataset\n",
    "def clean_sentence(val):\n",
    "    \"remove chars that are not letters or numbers, downcase, then remove stop words\"\n",
    "    regex = re.compile('([^\\s\\w]|_)+')\n",
    "    sentence = regex.sub('', val).lower()\n",
    "    sentence = sentence.split(\" \")\n",
    "\n",
    "    for word in list(sentence):\n",
    "        if word in STOP_WORDS:\n",
    "            sentence.remove(word)\n",
    "\n",
    "    sentence = \" \".join(sentence)\n",
    "    return sentence\n",
    "\n",
    "#creating a function for drop nans, then apply 'clean_sentence' function to Recordings\n",
    "def clean_dataframe(data):\n",
    "    data = data.dropna(how=\"any\")\n",
    "\n",
    "    for col in ['Recording']:\n",
    "        data[col] = data[col].progress_apply(clean_sentence)\n",
    "\n",
    "    return data\n",
    "\n",
    "data = clean_dataframe(data)"
   ]
  },
  {
   "cell_type": "code",
   "execution_count": 11,
   "metadata": {
    "id": "fsoWfRKHB3Oo"
   },
   "outputs": [],
   "source": [
    "#creating new csv file for the cleaned data\n",
    "data.to_csv('dataset_clean.csv')"
   ]
  },
  {
   "cell_type": "markdown",
   "metadata": {
    "id": "m4ynfTXu2APO"
   },
   "source": [
    "**Loading and encoding the data from the dataset**"
   ]
  },
  {
   "cell_type": "code",
   "execution_count": 12,
   "metadata": {
    "id": "QUhaKZYl1K6F"
   },
   "outputs": [],
   "source": [
    "#importing the chardet library for encoding the data from the dataset\n",
    "import chardet\n",
    "# Detect the encoding of the cleaned data file\n",
    "with open('dataset_clean.csv', 'rb') as f:\n",
    "    result = chardet.detect(f.read())\n",
    "encoding = result['encoding']"
   ]
  },
  {
   "cell_type": "markdown",
   "metadata": {
    "id": "IsAgc9CZ2KBB"
   },
   "source": [
    "**Training the data with different ML models**"
   ]
  },
  {
   "cell_type": "code",
   "execution_count": 13,
   "metadata": {
    "id": "l4ZOyoiG32P5"
   },
   "outputs": [],
   "source": [
    "#importing the required libraries to ready the data for modeling\n",
    "from sklearn.feature_extraction.text import CountVectorizer\n",
    "from sklearn.model_selection import train_test_split"
   ]
  },
  {
   "cell_type": "code",
   "execution_count": 14,
   "metadata": {
    "id": "jPI7c3OH4Ki9"
   },
   "outputs": [],
   "source": [
    "# Load the data\n",
    "df = pd.read_csv('dataset_clean.csv',encoding=encoding)\n",
    "df=df.dropna(how=\"any\")\n",
    "# Split the data into training and testing sets\n",
    "X = df['Recording']\n",
    "y = df['Threat']\n",
    "X_train, X_test, y_train, y_test = train_test_split(X, y, test_size=0.2,random_state = 0)\n",
    "# Convert text to bag-of-words features\n",
    "vectorizer = CountVectorizer()\n",
    "X_train = vectorizer.fit_transform(X_train)\n",
    "X_test = vectorizer.transform(X_test)"
   ]
  },
  {
   "cell_type": "markdown",
   "metadata": {
    "id": "lXXFy85i4hzQ"
   },
   "source": [
    "**Logistic regression**"
   ]
  },
  {
   "cell_type": "code",
   "execution_count": 15,
   "metadata": {
    "id": "Nn6ieZs04oDU"
   },
   "outputs": [],
   "source": [
    "from sklearn.linear_model import LogisticRegression\n",
    "# Training a logistic regression model\n",
    "clf_lr = LogisticRegression()\n",
    "clf_lr.fit(X_train, y_train)\n",
    "\n",
    "# Making predictions on the test set\n",
    "y_pred_lr = clf_lr.predict(X_test)"
   ]
  },
  {
   "cell_type": "markdown",
   "metadata": {
    "id": "jpasnDcd5Anq"
   },
   "source": [
    "**Decision tree classifier**"
   ]
  },
  {
   "cell_type": "code",
   "execution_count": 16,
   "metadata": {
    "id": "CQa8AGGD5LiH"
   },
   "outputs": [],
   "source": [
    "from sklearn.tree import DecisionTreeClassifier\n",
    "# Training a decision tree classifier\n",
    "clf_dt = DecisionTreeClassifier(criterion = 'entropy', random_state = 42)\n",
    "clf_dt.fit(X_train, y_train)\n",
    "\n",
    "# Making predictions on the test set\n",
    "y_pred_dt = clf_dt.predict(X_test)"
   ]
  },
  {
   "cell_type": "markdown",
   "metadata": {
    "id": "WCEFMvlq5dMF"
   },
   "source": [
    "**Random forest classifier**"
   ]
  },
  {
   "cell_type": "code",
   "execution_count": 17,
   "metadata": {
    "id": "2B6ITG3Z5ikA"
   },
   "outputs": [],
   "source": [
    "from sklearn.ensemble import RandomForestClassifier\n",
    "# Train a random forest classifier\n",
    "clf_rf = RandomForestClassifier(n_estimators = 100,random_state=42)\n",
    "clf_rf.fit(X_train, y_train)\n",
    "\n",
    "# Make predictions on the test set\n",
    "y_pred_rf = clf_rf.predict(X_test)"
   ]
  },
  {
   "cell_type": "markdown",
   "metadata": {
    "id": "EiXy8KOl5tk8"
   },
   "source": [
    "**Naive Bayes classifier**"
   ]
  },
  {
   "cell_type": "code",
   "execution_count": 18,
   "metadata": {
    "id": "s8ieU6W95xvF"
   },
   "outputs": [],
   "source": [
    "from sklearn.naive_bayes import MultinomialNB\n",
    "# Train a Naive Bayes classifier\n",
    "clf_nb = MultinomialNB()\n",
    "clf_nb.fit(X_train, y_train)\n",
    "\n",
    "# Make predictions on the test set\n",
    "y_pred_nb = clf_nb.predict(X_test)"
   ]
  },
  {
   "cell_type": "markdown",
   "metadata": {
    "id": "65_J0GwLnz9V"
   },
   "source": [
    "**Making the confusion matrix**"
   ]
  },
  {
   "cell_type": "code",
   "execution_count": 20,
   "metadata": {
    "colab": {
     "base_uri": "https://localhost:8080/",
     "height": 1000
    },
    "id": "7U8QndMmntk0",
    "outputId": "0bc78e03-b04c-42c3-8b54-b3ed454c97dc"
   },
   "outputs": [
    {
     "data": {
      "image/png": "[encoded data removed]",
      "text/plain": [
       "<Figure size 600x400 with 2 Axes>"
      ]
     },
     "metadata": {},
     "output_type": "display_data"
    },
    {
     "data": {
      "image/png": "[encoded data removed]",
      "text/plain": [
       "<Figure size 600x400 with 2 Axes>"
      ]
     },
     "metadata": {},
     "output_type": "display_data"
    },
    {
     "data": {
      "image/png": "[encoded data removed]",
      "text/plain": [
       "<Figure size 600x400 with 2 Axes>"
      ]
     },
     "metadata": {},
     "output_type": "display_data"
    },
    {
     "name": "stdout",
     "output_type": "stream",
     "text": [
      "\n"
     ]
    },
    {
     "data": {
      "image/png": "[encoded data removed]",
      "text/plain": [
       "<Figure size 600x400 with 2 Axes>"
      ]
     },
     "metadata": {},
     "output_type": "display_data"
    }
   ],
   "source": [
    "import matplotlib.pyplot as plt\n",
    "from sklearn.metrics import confusion_matrix\n",
    "import seaborn as sns\n",
    "\n",
    "#Making the confusion matrix for logistic regression model\n",
    "cm_lr= confusion_matrix(y_test, y_pred_lr)\n",
    "# Create a DataFrame to display the confusion matrix\n",
    "cm_df = pd.DataFrame(cm_lr, index=['Not Approved', 'Approved'], columns=['Not Approved', 'Approved'])\n",
    "\n",
    "# Visualize the confusion matrix using a heatmap\n",
    "plt.figure(figsize=(6, 4))\n",
    "sns.heatmap(cm_df, annot=True, cmap='Blues', fmt='d')\n",
    "plt.title('Confusion Matrix of logistic regression model')\n",
    "plt.xlabel('Predicted')\n",
    "plt.ylabel('Actual')\n",
    "plt.show()\n",
    "\n",
    "#Making the confusion matrix for decision tree classifier\n",
    "cm_dt= confusion_matrix(y_test, y_pred_dt)\n",
    "# Create a DataFrame to display the confusion matrix\n",
    "cm_df = pd.DataFrame(cm_dt, index=['Not Approved', 'Approved'], columns=['Not Approved', 'Approved'])\n",
    "\n",
    "# Visualize the confusion matrix using a heatmap\n",
    "plt.figure(figsize=(6, 4))\n",
    "sns.heatmap(cm_df, annot=True, cmap='Blues', fmt='d')\n",
    "plt.title('Confusion Matrix of decision tree classifier')\n",
    "plt.xlabel('Predicted')\n",
    "plt.ylabel('Actual')\n",
    "plt.show()\n",
    "\n",
    "#Making the confusion matrix for random forest classifier\n",
    "cm_rf= confusion_matrix(y_test, y_pred_rf)\n",
    "# Create a DataFrame to display the confusion matrix\n",
    "cm_df = pd.DataFrame(cm_rf, index=['Not Approved', 'Approved'], columns=['Not Approved', 'Approved'])\n",
    "\n",
    "# Visualize the confusion matrix using a heatmap\n",
    "plt.figure(figsize=(6, 4))\n",
    "sns.heatmap(cm_df, annot=True, cmap='Blues', fmt='d')\n",
    "plt.title('Confusion Matrix of random forest classifier')\n",
    "plt.xlabel('Predicted')\n",
    "plt.ylabel('Actual')\n",
    "plt.show()\n",
    "\n",
    "#Making the confusion matrix for Naive Bayes classifier\n",
    "cm_nb= confusion_matrix(y_test, y_pred_nb)\n",
    "# Create a DataFrame to display the confusion matrix\n",
    "cm_df = pd.DataFrame(cm_nb, index=['Not Approved', 'Approved'], columns=['Not Approved', 'Approved'])\n",
    "print()\n",
    "# Visualize the confusion matrix using a heatmap\n",
    "plt.figure(figsize=(6, 4))\n",
    "sns.heatmap(cm_df, annot=True, cmap='Blues', fmt='d')\n",
    "plt.title('Confusion Matrix of Naive Bayes classifier')\n",
    "plt.xlabel('Predicted')\n",
    "plt.ylabel('Actual')\n",
    "plt.show()\n"
   ]
  },
  {
   "cell_type": "markdown",
   "metadata": {
    "id": "1zyAmXgX58Bw"
   },
   "source": [
    "**Calculating the accuracy of the trained models**"
   ]
  },
  {
   "cell_type": "code",
   "execution_count": 19,
   "metadata": {
    "colab": {
     "base_uri": "https://localhost:8080/"
    },
    "id": "FJRlX3LS6EKC",
    "outputId": "47a47327-c514-4e29-dc0f-b824d125f18c"
   },
   "outputs": [
    {
     "name": "stdout",
     "output_type": "stream",
     "text": [
      "Accuracy of logistic regression model : 82.12765957446808\n",
      "Accuracy of decision tree classifier : 82.5531914893617\n",
      "Accuracy of random forest classifier : 84.25531914893617\n",
      "Accuracy of Naive Bayes classifier : 82.97872340425532\n"
     ]
    }
   ],
   "source": [
    "from sklearn.metrics import accuracy_score\n",
    "\n",
    "#Calculate accuracy score for logistic regression model\n",
    "acc_lr= accuracy_score(y_test, y_pred_lr)\n",
    "print('Accuracy of logistic regression model :', acc_lr*100)\n",
    "\n",
    "#Calculate accuracy score for decision tree classifier\n",
    "acc_dt= accuracy_score(y_test, y_pred_dt)\n",
    "print('Accuracy of decision tree classifier :', acc_dt*100)\n",
    "\n",
    "#Calculate accuracy score for random forest classifier\n",
    "acc_rf= accuracy_score(y_test, y_pred_rf)\n",
    "print('Accuracy of random forest classifier :', acc_rf*100)\n",
    "\n",
    "#Calculate accuracy score for Naive Bayes classifier\n",
    "acc_nb= accuracy_score(y_test, y_pred_nb)\n",
    "print('Accuracy of Naive Bayes classifier :', acc_nb*100)"
   ]
  },
  {
   "cell_type": "markdown",
   "metadata": {
    "id": "Fnm6t21_l1Y1"
   },
   "source": [
    "**Testing the text which was generated by converting the recorded audio**"
   ]
  },
  {
   "cell_type": "code",
   "execution_count": 20,
   "metadata": {
    "id": "ggZaAZaYmFVR"
   },
   "outputs": [
    {
     "name": "stdout",
     "output_type": "stream",
     "text": [
      "0.0\n"
     ]
    }
   ],
   "source": [
    "raw_text =l\n",
    "raw_text_bow = vectorizer.transform([raw_text])\n",
    "# Using  the model to predict the output of the raw text\n",
    "output = clf_lr.predict(raw_text_bow)[0]\n",
    "print(output)"
   ]
  },
  {
   "cell_type": "markdown",
   "metadata": {
    "id": "dvqHZm848yCS"
   },
   "source": [
    "**Sending the alert messages through whatsapp using pywhatkit library**"
   ]
  },
  {
   "cell_type": "code",
   "execution_count": null,
   "metadata": {
    "id": "2n30Iv8xmWuH"
   },
   "outputs": [],
   "source": [
    "#importing the required libraries to send the messages\n",
    "import pywhatkit\n",
    "import datetime\n",
    "#storing the numbers to which you want to send the alert\n",
    "registernumbers=[\"---numbers to which you want to send the alert---\"]\n",
    "\n",
    "if output==0:\n",
    "    for j in range(0,len(registernumbers)):\n",
    "        number=registernumbers[j]\n",
    "        message = \"Threatening call alert\"\n",
    "        pywhatkit.sendwhatmsg(number, message, datetime.datetime.now().hour, datetime.datetime.now().minute + 1)\n",
    "else:\n",
    "    print(\"it's not a threaten call\")"
   ]
  }
 ],
 "metadata": {
  "colab": {
   "provenance": []
  },
  "kernelspec": {
   "display_name": "Python 3 (ipykernel)",
   "language": "python",
   "name": "python3"
  },
  "language_info": {
   "codemirror_mode": {
    "name": "ipython",
    "version": 3
   },
   "file_extension": ".py",
   "mimetype": "text/x-python",
   "name": "python",
   "nbconvert_exporter": "python",
   "pygments_lexer": "ipython3",
   "version": "3.10.4"
  }
 },
 "nbformat": 4,
 "nbformat_minor": 1
}
